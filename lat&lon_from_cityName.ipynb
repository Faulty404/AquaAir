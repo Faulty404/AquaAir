{
 "cells": [
  {
   "cell_type": "code",
   "execution_count": 87,
   "id": "151675f7-c3d9-4d5d-b5b6-011777ffdfc4",
   "metadata": {
    "tags": []
   },
   "outputs": [
    {
     "name": "stdout",
     "output_type": "stream",
     "text": [
      "19.0785451 72.878176\n"
     ]
    },
    {
     "ename": "KeyError",
     "evalue": "'list'",
     "output_type": "error",
     "traceback": [
      "\u001b[1;31m---------------------------------------------------------------------------\u001b[0m",
      "\u001b[1;31mKeyError\u001b[0m                                  Traceback (most recent call last)",
      "Cell \u001b[1;32mIn[87], line 13\u001b[0m\n\u001b[0;32m     10\u001b[0m \u001b[38;5;66;03m###latit = {'lat' : lati}\u001b[39;00m\n\u001b[0;32m     11\u001b[0m \u001b[38;5;66;03m###longit = {'lon' : long}\u001b[39;00m\n\u001b[0;32m     12\u001b[0m response2 \u001b[38;5;241m=\u001b[39m requests\u001b[38;5;241m.\u001b[39mget(\u001b[38;5;124m'\u001b[39m\u001b[38;5;124mhttp://api.openweathermap.org/data/2.5/air_pollution/history?lat=\u001b[39m\u001b[38;5;132;01m{lati}\u001b[39;00m\u001b[38;5;124m&lon=\u001b[39m\u001b[38;5;132;01m{long}\u001b[39;00m\u001b[38;5;124m&appid=0995af22d236b1cc2e36ef198a08fb29\u001b[39m\u001b[38;5;124m'\u001b[39m)\n\u001b[1;32m---> 13\u001b[0m data2\u001b[38;5;241m=\u001b[39mpd\u001b[38;5;241m.\u001b[39mDataFrame(response2\u001b[38;5;241m.\u001b[39mjson()[\u001b[38;5;124m'\u001b[39m\u001b[38;5;124mlist\u001b[39m\u001b[38;5;124m'\u001b[39m]);\n\u001b[0;32m     14\u001b[0m data2\n",
      "\u001b[1;31mKeyError\u001b[0m: 'list'"
     ]
    }
   ],
   "source": [
    "import requests\n",
    "import json\n",
    "import pandas as pd\n",
    "apikey = \"5c851b011e0f071f8e0496731dd999e3\";\n",
    "###taking input as city name, for now typed manually\n",
    "response1 = requests.get('http://api.openweathermap.org/geo/1.0/direct?q=Mumbai&appid=0995af22d236b1cc2e36ef198a08fb29')\n",
    "data1 = response1.json()\n",
    "###got values of its latitude and longitude and stored it in some variable\n",
    "lati = data1[0]['lat']\n",
    "long = data1[0]['lon']\n",
    "print(lati,long)\n",
    "###latit = {'lat' : lati}\n",
    "###longit = {'lon' : long}\n",
    "###Trying to pass variable lati and long as parameters in the api call but getting error\n",
    "response2 = requests.get('http://api.openweathermap.org/data/2.5/air_pollution/history?lat={lati}&lon={long}&appid=0995af22d236b1cc2e36ef198a08fb29')\n",
    "data2=pd.DataFrame(response2.json()['list']);\n",
    "data2"
   ]
  },
  {
   "cell_type": "code",
   "execution_count": null,
   "id": "6b7230e1-75d8-4f6b-8173-9a4ab3987b63",
   "metadata": {},
   "outputs": [],
   "source": []
  },
  {
   "cell_type": "code",
   "execution_count": null,
   "id": "04d23e72-68e1-4ef5-b044-22395c8cab7a",
   "metadata": {},
   "outputs": [],
   "source": []
  },
  {
   "cell_type": "code",
   "execution_count": 21,
   "id": "2f989383-1c7a-4866-b967-208e3611c896",
   "metadata": {
    "tags": []
   },
   "outputs": [
    {
     "name": "stdout",
     "output_type": "stream",
     "text": [
      "Requirement already satisfied: requests in c:\\users\\lenovo\\anaconda3\\lib\\site-packages (2.31.0)\n",
      "Requirement already satisfied: charset-normalizer<4,>=2 in c:\\users\\lenovo\\anaconda3\\lib\\site-packages (from requests) (2.0.4)\n",
      "Requirement already satisfied: idna<4,>=2.5 in c:\\users\\lenovo\\anaconda3\\lib\\site-packages (from requests) (3.4)\n",
      "Requirement already satisfied: urllib3<3,>=1.21.1 in c:\\users\\lenovo\\anaconda3\\lib\\site-packages (from requests) (1.26.16)\n",
      "Requirement already satisfied: certifi>=2017.4.17 in c:\\users\\lenovo\\anaconda3\\lib\\site-packages (from requests) (2023.7.22)\n",
      "Note: you may need to restart the kernel to use updated packages.\n"
     ]
    }
   ],
   "source": [
    "\n"
   ]
  },
  {
   "cell_type": "code",
   "execution_count": 29,
   "id": "bc08174b-d9c2-43d0-98c3-123da3d0e69c",
   "metadata": {
    "tags": []
   },
   "outputs": [
    {
     "name": "stdin",
     "output_type": "stream",
     "text": [
      "Enter name of city:  mumbai\n"
     ]
    },
    {
     "ename": "KeyError",
     "evalue": "'list'",
     "output_type": "error",
     "traceback": [
      "\u001b[1;31m---------------------------------------------------------------------------\u001b[0m",
      "\u001b[1;31mKeyError\u001b[0m                                  Traceback (most recent call last)",
      "Cell \u001b[1;32mIn[29], line 7\u001b[0m\n\u001b[0;32m      5\u001b[0m \u001b[38;5;66;03m###response = requests.get('http://api.openweathermap.org/geo/1.0/direct?q={city name},{state code},{country code}&limit={limit}&appid={apikey}')\u001b[39;00m\n\u001b[0;32m      6\u001b[0m response \u001b[38;5;241m=\u001b[39m requests\u001b[38;5;241m.\u001b[39mget(\u001b[38;5;124m'\u001b[39m\u001b[38;5;124mhttp://api.openweathermap.org/data/2.5/air_pollution/history?lat=19.075983&lon=72.877655&start=1672511400&end=1675103400&appid=\u001b[39m\u001b[38;5;124m\"\u001b[39m\u001b[38;5;124m5c851b011e0f071f8e0496731dd999e3\u001b[39m\u001b[38;5;124m\"\u001b[39m\u001b[38;5;124m'\u001b[39m)\n\u001b[1;32m----> 7\u001b[0m data1\u001b[38;5;241m=\u001b[39mpd\u001b[38;5;241m.\u001b[39mDataFrame(response\u001b[38;5;241m.\u001b[39mjson()[\u001b[38;5;124m'\u001b[39m\u001b[38;5;124mlist\u001b[39m\u001b[38;5;124m'\u001b[39m]);\n\u001b[0;32m      8\u001b[0m data1\n\u001b[0;32m      9\u001b[0m data1[\u001b[38;5;124m'\u001b[39m\u001b[38;5;124mcomponents\u001b[39m\u001b[38;5;124m'\u001b[39m][\u001b[38;5;241m1\u001b[39m]\n",
      "\u001b[1;31mKeyError\u001b[0m: 'list'"
     ]
    }
   ],
   "source": []
  },
  {
   "cell_type": "code",
   "execution_count": null,
   "id": "c8b40f86-1c35-44b6-91ba-b73fe89f37d3",
   "metadata": {},
   "outputs": [],
   "source": []
  }
 ],
 "metadata": {
  "kernelspec": {
   "display_name": "Python 3 (ipykernel)",
   "language": "python",
   "name": "python3"
  },
  "language_info": {
   "codemirror_mode": {
    "name": "ipython",
    "version": 3
   },
   "file_extension": ".py",
   "mimetype": "text/x-python",
   "name": "python",
   "nbconvert_exporter": "python",
   "pygments_lexer": "ipython3",
   "version": "3.11.4"
  }
 },
 "nbformat": 4,
 "nbformat_minor": 5
}
