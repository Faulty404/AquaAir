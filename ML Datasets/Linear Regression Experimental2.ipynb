{
 "cells": [
  {
   "cell_type": "code",
   "execution_count": 2,
   "metadata": {},
   "outputs": [],
   "source": [
    "import pandas as pd\n",
    "import numpy as np\n",
    "import requests"
   ]
  },
  {
   "cell_type": "code",
   "execution_count": 7,
   "metadata": {},
   "outputs": [],
   "source": [
    "response= requests.get('http://api.openweathermap.org/data/2.5/air_pollution/history?lat=19.075983&lon=72.877655&start=1672511400&end=1693506600&appid=ca5311d76bd79399ef063aee16919b83')\n"
   ]
  },
  {
   "cell_type": "code",
   "execution_count": 9,
   "metadata": {},
   "outputs": [],
   "source": [
    "df = pd.DataFrame(response.json()['list'])"
   ]
  },
  {
   "cell_type": "code",
   "execution_count": 11,
   "metadata": {},
   "outputs": [],
   "source": [
    "dataAQI =  pd.DataFrame.from_records(df['main'])"
   ]
  },
  {
   "cell_type": "code",
   "execution_count": 13,
   "metadata": {},
   "outputs": [],
   "source": [
    "data = pd.DataFrame.from_records(df['components'])"
   ]
  },
  {
   "cell_type": "code",
   "execution_count": 14,
   "metadata": {},
   "outputs": [],
   "source": [
    "data['date'] = df.loc[:,'dt']\n",
    "data['AQI'] = dataAQI.loc[:,'aqi']"
   ]
  },
  {
   "cell_type": "code",
   "execution_count": 15,
   "metadata": {},
   "outputs": [
    {
     "data": {
      "text/html": [
       "<div>\n",
       "<style scoped>\n",
       "    .dataframe tbody tr th:only-of-type {\n",
       "        vertical-align: middle;\n",
       "    }\n",
       "\n",
       "    .dataframe tbody tr th {\n",
       "        vertical-align: top;\n",
       "    }\n",
       "\n",
       "    .dataframe thead th {\n",
       "        text-align: right;\n",
       "    }\n",
       "</style>\n",
       "<table border=\"1\" class=\"dataframe\">\n",
       "  <thead>\n",
       "    <tr style=\"text-align: right;\">\n",
       "      <th></th>\n",
       "      <th>co</th>\n",
       "      <th>no</th>\n",
       "      <th>no2</th>\n",
       "      <th>o3</th>\n",
       "      <th>so2</th>\n",
       "      <th>pm2_5</th>\n",
       "      <th>pm10</th>\n",
       "      <th>nh3</th>\n",
       "      <th>date</th>\n",
       "      <th>AQI</th>\n",
       "    </tr>\n",
       "  </thead>\n",
       "  <tbody>\n",
       "    <tr>\n",
       "      <th>0</th>\n",
       "      <td>1401.90</td>\n",
       "      <td>0.00</td>\n",
       "      <td>44.55</td>\n",
       "      <td>67.23</td>\n",
       "      <td>41.48</td>\n",
       "      <td>135.13</td>\n",
       "      <td>175.59</td>\n",
       "      <td>16.47</td>\n",
       "      <td>1672513200</td>\n",
       "      <td>5</td>\n",
       "    </tr>\n",
       "    <tr>\n",
       "      <th>1</th>\n",
       "      <td>1174.93</td>\n",
       "      <td>0.00</td>\n",
       "      <td>38.04</td>\n",
       "      <td>61.51</td>\n",
       "      <td>40.05</td>\n",
       "      <td>128.98</td>\n",
       "      <td>162.93</td>\n",
       "      <td>11.40</td>\n",
       "      <td>1672516800</td>\n",
       "      <td>5</td>\n",
       "    </tr>\n",
       "    <tr>\n",
       "      <th>2</th>\n",
       "      <td>1054.76</td>\n",
       "      <td>0.00</td>\n",
       "      <td>33.59</td>\n",
       "      <td>55.79</td>\n",
       "      <td>50.07</td>\n",
       "      <td>142.35</td>\n",
       "      <td>171.39</td>\n",
       "      <td>7.47</td>\n",
       "      <td>1672520400</td>\n",
       "      <td>5</td>\n",
       "    </tr>\n",
       "    <tr>\n",
       "      <th>3</th>\n",
       "      <td>1001.36</td>\n",
       "      <td>0.00</td>\n",
       "      <td>31.53</td>\n",
       "      <td>54.36</td>\n",
       "      <td>62.94</td>\n",
       "      <td>161.67</td>\n",
       "      <td>187.33</td>\n",
       "      <td>4.75</td>\n",
       "      <td>1672524000</td>\n",
       "      <td>5</td>\n",
       "    </tr>\n",
       "    <tr>\n",
       "      <th>4</th>\n",
       "      <td>1054.76</td>\n",
       "      <td>0.00</td>\n",
       "      <td>32.22</td>\n",
       "      <td>50.78</td>\n",
       "      <td>55.31</td>\n",
       "      <td>163.79</td>\n",
       "      <td>188.75</td>\n",
       "      <td>6.40</td>\n",
       "      <td>1672527600</td>\n",
       "      <td>5</td>\n",
       "    </tr>\n",
       "    <tr>\n",
       "      <th>...</th>\n",
       "      <td>...</td>\n",
       "      <td>...</td>\n",
       "      <td>...</td>\n",
       "      <td>...</td>\n",
       "      <td>...</td>\n",
       "      <td>...</td>\n",
       "      <td>...</td>\n",
       "      <td>...</td>\n",
       "      <td>...</td>\n",
       "      <td>...</td>\n",
       "    </tr>\n",
       "    <tr>\n",
       "      <th>5731</th>\n",
       "      <td>1108.17</td>\n",
       "      <td>21.46</td>\n",
       "      <td>26.73</td>\n",
       "      <td>0.11</td>\n",
       "      <td>32.42</td>\n",
       "      <td>46.35</td>\n",
       "      <td>81.12</td>\n",
       "      <td>15.83</td>\n",
       "      <td>1693490400</td>\n",
       "      <td>3</td>\n",
       "    </tr>\n",
       "    <tr>\n",
       "      <th>5732</th>\n",
       "      <td>1588.82</td>\n",
       "      <td>32.19</td>\n",
       "      <td>23.99</td>\n",
       "      <td>0.00</td>\n",
       "      <td>42.44</td>\n",
       "      <td>72.56</td>\n",
       "      <td>119.38</td>\n",
       "      <td>24.07</td>\n",
       "      <td>1693494000</td>\n",
       "      <td>4</td>\n",
       "    </tr>\n",
       "    <tr>\n",
       "      <th>5733</th>\n",
       "      <td>2323.15</td>\n",
       "      <td>47.39</td>\n",
       "      <td>24.68</td>\n",
       "      <td>0.00</td>\n",
       "      <td>61.04</td>\n",
       "      <td>115.56</td>\n",
       "      <td>177.60</td>\n",
       "      <td>36.98</td>\n",
       "      <td>1693497600</td>\n",
       "      <td>5</td>\n",
       "    </tr>\n",
       "    <tr>\n",
       "      <th>5734</th>\n",
       "      <td>2937.32</td>\n",
       "      <td>59.90</td>\n",
       "      <td>25.02</td>\n",
       "      <td>0.00</td>\n",
       "      <td>78.20</td>\n",
       "      <td>157.83</td>\n",
       "      <td>235.11</td>\n",
       "      <td>49.65</td>\n",
       "      <td>1693501200</td>\n",
       "      <td>5</td>\n",
       "    </tr>\n",
       "    <tr>\n",
       "      <th>5735</th>\n",
       "      <td>2990.72</td>\n",
       "      <td>60.80</td>\n",
       "      <td>24.68</td>\n",
       "      <td>0.00</td>\n",
       "      <td>80.11</td>\n",
       "      <td>164.15</td>\n",
       "      <td>245.04</td>\n",
       "      <td>50.66</td>\n",
       "      <td>1693504800</td>\n",
       "      <td>5</td>\n",
       "    </tr>\n",
       "  </tbody>\n",
       "</table>\n",
       "<p>5736 rows × 10 columns</p>\n",
       "</div>"
      ],
      "text/plain": [
       "           co     no    no2     o3    so2   pm2_5    pm10    nh3        date  \\\n",
       "0     1401.90   0.00  44.55  67.23  41.48  135.13  175.59  16.47  1672513200   \n",
       "1     1174.93   0.00  38.04  61.51  40.05  128.98  162.93  11.40  1672516800   \n",
       "2     1054.76   0.00  33.59  55.79  50.07  142.35  171.39   7.47  1672520400   \n",
       "3     1001.36   0.00  31.53  54.36  62.94  161.67  187.33   4.75  1672524000   \n",
       "4     1054.76   0.00  32.22  50.78  55.31  163.79  188.75   6.40  1672527600   \n",
       "...       ...    ...    ...    ...    ...     ...     ...    ...         ...   \n",
       "5731  1108.17  21.46  26.73   0.11  32.42   46.35   81.12  15.83  1693490400   \n",
       "5732  1588.82  32.19  23.99   0.00  42.44   72.56  119.38  24.07  1693494000   \n",
       "5733  2323.15  47.39  24.68   0.00  61.04  115.56  177.60  36.98  1693497600   \n",
       "5734  2937.32  59.90  25.02   0.00  78.20  157.83  235.11  49.65  1693501200   \n",
       "5735  2990.72  60.80  24.68   0.00  80.11  164.15  245.04  50.66  1693504800   \n",
       "\n",
       "      AQI  \n",
       "0       5  \n",
       "1       5  \n",
       "2       5  \n",
       "3       5  \n",
       "4       5  \n",
       "...   ...  \n",
       "5731    3  \n",
       "5732    4  \n",
       "5733    5  \n",
       "5734    5  \n",
       "5735    5  \n",
       "\n",
       "[5736 rows x 10 columns]"
      ]
     },
     "execution_count": 15,
     "metadata": {},
     "output_type": "execute_result"
    }
   ],
   "source": [
    "data"
   ]
  },
  {
   "cell_type": "code",
   "execution_count": 16,
   "metadata": {},
   "outputs": [],
   "source": [
    "data['date'] = pd.to_datetime(data['date'],unit='s')\n",
    "grouped = data.groupby(pd.Grouper(key='date', freq='D'))\n",
    "daily_data = grouped.mean()"
   ]
  },
  {
   "cell_type": "code",
   "execution_count": 17,
   "metadata": {},
   "outputs": [
    {
     "data": {
      "text/html": [
       "<div>\n",
       "<style scoped>\n",
       "    .dataframe tbody tr th:only-of-type {\n",
       "        vertical-align: middle;\n",
       "    }\n",
       "\n",
       "    .dataframe tbody tr th {\n",
       "        vertical-align: top;\n",
       "    }\n",
       "\n",
       "    .dataframe thead th {\n",
       "        text-align: right;\n",
       "    }\n",
       "</style>\n",
       "<table border=\"1\" class=\"dataframe\">\n",
       "  <thead>\n",
       "    <tr style=\"text-align: right;\">\n",
       "      <th></th>\n",
       "      <th>co</th>\n",
       "      <th>no</th>\n",
       "      <th>no2</th>\n",
       "      <th>o3</th>\n",
       "      <th>so2</th>\n",
       "      <th>pm2_5</th>\n",
       "      <th>pm10</th>\n",
       "      <th>nh3</th>\n",
       "      <th>AQI</th>\n",
       "    </tr>\n",
       "    <tr>\n",
       "      <th>date</th>\n",
       "      <th></th>\n",
       "      <th></th>\n",
       "      <th></th>\n",
       "      <th></th>\n",
       "      <th></th>\n",
       "      <th></th>\n",
       "      <th></th>\n",
       "      <th></th>\n",
       "      <th></th>\n",
       "    </tr>\n",
       "  </thead>\n",
       "  <tbody>\n",
       "    <tr>\n",
       "      <th>2022-12-31</th>\n",
       "      <td>1137.542000</td>\n",
       "      <td>0.000000</td>\n",
       "      <td>35.986000</td>\n",
       "      <td>57.934000</td>\n",
       "      <td>49.970000</td>\n",
       "      <td>146.384000</td>\n",
       "      <td>177.198000</td>\n",
       "      <td>9.298000</td>\n",
       "      <td>5.000000</td>\n",
       "    </tr>\n",
       "    <tr>\n",
       "      <th>2023-01-01</th>\n",
       "      <td>1479.785000</td>\n",
       "      <td>2.412500</td>\n",
       "      <td>46.117917</td>\n",
       "      <td>88.554167</td>\n",
       "      <td>54.469167</td>\n",
       "      <td>177.681667</td>\n",
       "      <td>211.292083</td>\n",
       "      <td>14.394583</td>\n",
       "      <td>5.000000</td>\n",
       "    </tr>\n",
       "    <tr>\n",
       "      <th>2023-01-02</th>\n",
       "      <td>2362.648333</td>\n",
       "      <td>10.372917</td>\n",
       "      <td>74.929583</td>\n",
       "      <td>62.845833</td>\n",
       "      <td>72.906667</td>\n",
       "      <td>250.995000</td>\n",
       "      <td>302.828750</td>\n",
       "      <td>24.751250</td>\n",
       "      <td>5.000000</td>\n",
       "    </tr>\n",
       "    <tr>\n",
       "      <th>2023-01-03</th>\n",
       "      <td>2314.527917</td>\n",
       "      <td>12.046250</td>\n",
       "      <td>69.002083</td>\n",
       "      <td>65.507500</td>\n",
       "      <td>72.647500</td>\n",
       "      <td>243.778750</td>\n",
       "      <td>293.117917</td>\n",
       "      <td>23.635833</td>\n",
       "      <td>5.000000</td>\n",
       "    </tr>\n",
       "    <tr>\n",
       "      <th>2023-01-04</th>\n",
       "      <td>3276.110833</td>\n",
       "      <td>21.467917</td>\n",
       "      <td>92.879167</td>\n",
       "      <td>59.503333</td>\n",
       "      <td>88.412917</td>\n",
       "      <td>319.108333</td>\n",
       "      <td>380.348333</td>\n",
       "      <td>31.723333</td>\n",
       "      <td>5.000000</td>\n",
       "    </tr>\n",
       "    <tr>\n",
       "      <th>...</th>\n",
       "      <td>...</td>\n",
       "      <td>...</td>\n",
       "      <td>...</td>\n",
       "      <td>...</td>\n",
       "      <td>...</td>\n",
       "      <td>...</td>\n",
       "      <td>...</td>\n",
       "      <td>...</td>\n",
       "      <td>...</td>\n",
       "    </tr>\n",
       "    <tr>\n",
       "      <th>2023-08-27</th>\n",
       "      <td>295.122500</td>\n",
       "      <td>0.970417</td>\n",
       "      <td>9.360000</td>\n",
       "      <td>20.395417</td>\n",
       "      <td>10.860417</td>\n",
       "      <td>12.866250</td>\n",
       "      <td>18.107083</td>\n",
       "      <td>2.879167</td>\n",
       "      <td>1.666667</td>\n",
       "    </tr>\n",
       "    <tr>\n",
       "      <th>2023-08-28</th>\n",
       "      <td>287.681250</td>\n",
       "      <td>1.607083</td>\n",
       "      <td>9.760417</td>\n",
       "      <td>20.261667</td>\n",
       "      <td>14.046667</td>\n",
       "      <td>11.516667</td>\n",
       "      <td>16.053750</td>\n",
       "      <td>2.701250</td>\n",
       "      <td>1.916667</td>\n",
       "    </tr>\n",
       "    <tr>\n",
       "      <th>2023-08-29</th>\n",
       "      <td>746.011250</td>\n",
       "      <td>6.746250</td>\n",
       "      <td>23.751250</td>\n",
       "      <td>23.777083</td>\n",
       "      <td>30.343750</td>\n",
       "      <td>40.992917</td>\n",
       "      <td>56.897917</td>\n",
       "      <td>12.244167</td>\n",
       "      <td>3.041667</td>\n",
       "    </tr>\n",
       "    <tr>\n",
       "      <th>2023-08-30</th>\n",
       "      <td>758.807500</td>\n",
       "      <td>11.144167</td>\n",
       "      <td>25.276667</td>\n",
       "      <td>19.718333</td>\n",
       "      <td>41.812083</td>\n",
       "      <td>42.967917</td>\n",
       "      <td>61.905000</td>\n",
       "      <td>11.378333</td>\n",
       "      <td>3.166667</td>\n",
       "    </tr>\n",
       "    <tr>\n",
       "      <th>2023-08-31</th>\n",
       "      <td>1471.293158</td>\n",
       "      <td>32.437368</td>\n",
       "      <td>40.343684</td>\n",
       "      <td>33.682105</td>\n",
       "      <td>78.414211</td>\n",
       "      <td>105.177368</td>\n",
       "      <td>143.325263</td>\n",
       "      <td>19.109474</td>\n",
       "      <td>4.157895</td>\n",
       "    </tr>\n",
       "  </tbody>\n",
       "</table>\n",
       "<p>244 rows × 9 columns</p>\n",
       "</div>"
      ],
      "text/plain": [
       "                     co         no        no2         o3        so2  \\\n",
       "date                                                                  \n",
       "2022-12-31  1137.542000   0.000000  35.986000  57.934000  49.970000   \n",
       "2023-01-01  1479.785000   2.412500  46.117917  88.554167  54.469167   \n",
       "2023-01-02  2362.648333  10.372917  74.929583  62.845833  72.906667   \n",
       "2023-01-03  2314.527917  12.046250  69.002083  65.507500  72.647500   \n",
       "2023-01-04  3276.110833  21.467917  92.879167  59.503333  88.412917   \n",
       "...                 ...        ...        ...        ...        ...   \n",
       "2023-08-27   295.122500   0.970417   9.360000  20.395417  10.860417   \n",
       "2023-08-28   287.681250   1.607083   9.760417  20.261667  14.046667   \n",
       "2023-08-29   746.011250   6.746250  23.751250  23.777083  30.343750   \n",
       "2023-08-30   758.807500  11.144167  25.276667  19.718333  41.812083   \n",
       "2023-08-31  1471.293158  32.437368  40.343684  33.682105  78.414211   \n",
       "\n",
       "                 pm2_5        pm10        nh3       AQI  \n",
       "date                                                     \n",
       "2022-12-31  146.384000  177.198000   9.298000  5.000000  \n",
       "2023-01-01  177.681667  211.292083  14.394583  5.000000  \n",
       "2023-01-02  250.995000  302.828750  24.751250  5.000000  \n",
       "2023-01-03  243.778750  293.117917  23.635833  5.000000  \n",
       "2023-01-04  319.108333  380.348333  31.723333  5.000000  \n",
       "...                ...         ...        ...       ...  \n",
       "2023-08-27   12.866250   18.107083   2.879167  1.666667  \n",
       "2023-08-28   11.516667   16.053750   2.701250  1.916667  \n",
       "2023-08-29   40.992917   56.897917  12.244167  3.041667  \n",
       "2023-08-30   42.967917   61.905000  11.378333  3.166667  \n",
       "2023-08-31  105.177368  143.325263  19.109474  4.157895  \n",
       "\n",
       "[244 rows x 9 columns]"
      ]
     },
     "execution_count": 17,
     "metadata": {},
     "output_type": "execute_result"
    }
   ],
   "source": [
    "daily_data"
   ]
  },
  {
   "cell_type": "code",
   "execution_count": 18,
   "metadata": {},
   "outputs": [],
   "source": [
    "daily_data = daily_data.reset_index()"
   ]
  },
  {
   "cell_type": "code",
   "execution_count": 38,
   "metadata": {},
   "outputs": [],
   "source": [
    "daily_data=daily_data.dropna()"
   ]
  },
  {
   "cell_type": "code",
   "execution_count": 20,
   "metadata": {},
   "outputs": [],
   "source": [
    "## now we will run linear regression"
   ]
  },
  {
   "cell_type": "code",
   "execution_count": 21,
   "metadata": {},
   "outputs": [],
   "source": [
    "from sklearn.linear_model import LinearRegression"
   ]
  },
  {
   "cell_type": "code",
   "execution_count": 22,
   "metadata": {},
   "outputs": [],
   "source": [
    "from sklearn.model_selection import train_test_split"
   ]
  },
  {
   "cell_type": "code",
   "execution_count": 39,
   "metadata": {},
   "outputs": [],
   "source": [
    "X = daily_data[['co','no','no2','o3','so2','pm2_5','pm10','nh3']]\n",
    "y = daily_data['AQI']"
   ]
  },
  {
   "cell_type": "code",
   "execution_count": 40,
   "metadata": {},
   "outputs": [],
   "source": [
    "X_train , X_test, y_train, y_test = train_test_split(X,y,random_state = 0)"
   ]
  },
  {
   "cell_type": "code",
   "execution_count": 41,
   "metadata": {},
   "outputs": [],
   "source": [
    "reg = LinearRegression()"
   ]
  },
  {
   "cell_type": "code",
   "execution_count": 42,
   "metadata": {},
   "outputs": [
    {
     "data": {
      "text/html": [
       "<style>#sk-container-id-3 {color: black;}#sk-container-id-3 pre{padding: 0;}#sk-container-id-3 div.sk-toggleable {background-color: white;}#sk-container-id-3 label.sk-toggleable__label {cursor: pointer;display: block;width: 100%;margin-bottom: 0;padding: 0.3em;box-sizing: border-box;text-align: center;}#sk-container-id-3 label.sk-toggleable__label-arrow:before {content: \"▸\";float: left;margin-right: 0.25em;color: #696969;}#sk-container-id-3 label.sk-toggleable__label-arrow:hover:before {color: black;}#sk-container-id-3 div.sk-estimator:hover label.sk-toggleable__label-arrow:before {color: black;}#sk-container-id-3 div.sk-toggleable__content {max-height: 0;max-width: 0;overflow: hidden;text-align: left;background-color: #f0f8ff;}#sk-container-id-3 div.sk-toggleable__content pre {margin: 0.2em;color: black;border-radius: 0.25em;background-color: #f0f8ff;}#sk-container-id-3 input.sk-toggleable__control:checked~div.sk-toggleable__content {max-height: 200px;max-width: 100%;overflow: auto;}#sk-container-id-3 input.sk-toggleable__control:checked~label.sk-toggleable__label-arrow:before {content: \"▾\";}#sk-container-id-3 div.sk-estimator input.sk-toggleable__control:checked~label.sk-toggleable__label {background-color: #d4ebff;}#sk-container-id-3 div.sk-label input.sk-toggleable__control:checked~label.sk-toggleable__label {background-color: #d4ebff;}#sk-container-id-3 input.sk-hidden--visually {border: 0;clip: rect(1px 1px 1px 1px);clip: rect(1px, 1px, 1px, 1px);height: 1px;margin: -1px;overflow: hidden;padding: 0;position: absolute;width: 1px;}#sk-container-id-3 div.sk-estimator {font-family: monospace;background-color: #f0f8ff;border: 1px dotted black;border-radius: 0.25em;box-sizing: border-box;margin-bottom: 0.5em;}#sk-container-id-3 div.sk-estimator:hover {background-color: #d4ebff;}#sk-container-id-3 div.sk-parallel-item::after {content: \"\";width: 100%;border-bottom: 1px solid gray;flex-grow: 1;}#sk-container-id-3 div.sk-label:hover label.sk-toggleable__label {background-color: #d4ebff;}#sk-container-id-3 div.sk-serial::before {content: \"\";position: absolute;border-left: 1px solid gray;box-sizing: border-box;top: 0;bottom: 0;left: 50%;z-index: 0;}#sk-container-id-3 div.sk-serial {display: flex;flex-direction: column;align-items: center;background-color: white;padding-right: 0.2em;padding-left: 0.2em;position: relative;}#sk-container-id-3 div.sk-item {position: relative;z-index: 1;}#sk-container-id-3 div.sk-parallel {display: flex;align-items: stretch;justify-content: center;background-color: white;position: relative;}#sk-container-id-3 div.sk-item::before, #sk-container-id-3 div.sk-parallel-item::before {content: \"\";position: absolute;border-left: 1px solid gray;box-sizing: border-box;top: 0;bottom: 0;left: 50%;z-index: -1;}#sk-container-id-3 div.sk-parallel-item {display: flex;flex-direction: column;z-index: 1;position: relative;background-color: white;}#sk-container-id-3 div.sk-parallel-item:first-child::after {align-self: flex-end;width: 50%;}#sk-container-id-3 div.sk-parallel-item:last-child::after {align-self: flex-start;width: 50%;}#sk-container-id-3 div.sk-parallel-item:only-child::after {width: 0;}#sk-container-id-3 div.sk-dashed-wrapped {border: 1px dashed gray;margin: 0 0.4em 0.5em 0.4em;box-sizing: border-box;padding-bottom: 0.4em;background-color: white;}#sk-container-id-3 div.sk-label label {font-family: monospace;font-weight: bold;display: inline-block;line-height: 1.2em;}#sk-container-id-3 div.sk-label-container {text-align: center;}#sk-container-id-3 div.sk-container {/* jupyter's `normalize.less` sets `[hidden] { display: none; }` but bootstrap.min.css set `[hidden] { display: none !important; }` so we also need the `!important` here to be able to override the default hidden behavior on the sphinx rendered scikit-learn.org. See: https://github.com/scikit-learn/scikit-learn/issues/21755 */display: inline-block !important;position: relative;}#sk-container-id-3 div.sk-text-repr-fallback {display: none;}</style><div id=\"sk-container-id-3\" class=\"sk-top-container\"><div class=\"sk-text-repr-fallback\"><pre>LinearRegression()</pre><b>In a Jupyter environment, please rerun this cell to show the HTML representation or trust the notebook. <br />On GitHub, the HTML representation is unable to render, please try loading this page with nbviewer.org.</b></div><div class=\"sk-container\" hidden><div class=\"sk-item\"><div class=\"sk-estimator sk-toggleable\"><input class=\"sk-toggleable__control sk-hidden--visually\" id=\"sk-estimator-id-3\" type=\"checkbox\" checked><label for=\"sk-estimator-id-3\" class=\"sk-toggleable__label sk-toggleable__label-arrow\">LinearRegression</label><div class=\"sk-toggleable__content\"><pre>LinearRegression()</pre></div></div></div></div></div>"
      ],
      "text/plain": [
       "LinearRegression()"
      ]
     },
     "execution_count": 42,
     "metadata": {},
     "output_type": "execute_result"
    }
   ],
   "source": [
    "reg.fit(X_train,y_train)"
   ]
  },
  {
   "cell_type": "code",
   "execution_count": 43,
   "metadata": {},
   "outputs": [
    {
     "data": {
      "text/plain": [
       "0.911947988101858"
      ]
     },
     "execution_count": 43,
     "metadata": {},
     "output_type": "execute_result"
    }
   ],
   "source": [
    "reg.score(X_test,y_test)"
   ]
  },
  {
   "cell_type": "code",
   "execution_count": 44,
   "metadata": {},
   "outputs": [],
   "source": [
    "import seaborn as sns\n"
   ]
  },
  {
   "cell_type": "code",
   "execution_count": 45,
   "metadata": {},
   "outputs": [
    {
     "data": {
      "text/plain": [
       "<AxesSubplot:ylabel='AQI'>"
      ]
     },
     "execution_count": 45,
     "metadata": {},
     "output_type": "execute_result"
    },
    {
     "data": {
      "image/png": "[encoded data removed]",
      "text/plain": [
       "<Figure size 432x288 with 1 Axes>"
      ]
     },
     "metadata": {
      "needs_background": "light"
     },
     "output_type": "display_data"
    }
   ],
   "source": [
    "sns.regplot(data=daily_data,x=reg.predict(X_test),y=y_test)"
   ]
  },
  {
   "cell_type": "code",
   "execution_count": null,
   "metadata": {},
   "outputs": [],
   "source": []
  }
 ],
 "metadata": {
  "kernelspec": {
   "display_name": "Python 3",
   "language": "python",
   "name": "python3"
  },
  "language_info": {
   "codemirror_mode": {
    "name": "ipython",
    "version": 3
   },
   "file_extension": ".py",
   "mimetype": "text/x-python",
   "name": "python",
   "nbconvert_exporter": "python",
   "pygments_lexer": "ipython3",
   "version": "3.8.5"
  }
 },
 "nbformat": 4,
 "nbformat_minor": 4
}
